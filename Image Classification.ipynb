{
 "cells": [
  {
   "cell_type": "markdown",
   "id": "b6ca2da8-c3cb-42e3-9039-cac9641ef149",
   "metadata": {},
   "source": [
    "### 1. Setting up and Gathering Data"
   ]
  },
  {
   "cell_type": "code",
   "execution_count": 3,
   "id": "2d5bfd8b-5d55-4403-b419-ede4ad4f7c5f",
   "metadata": {
    "collapsed": true,
    "jupyter": {
     "outputs_hidden": true
    }
   },
   "outputs": [
    {
     "name": "stdout",
     "output_type": "stream",
     "text": [
      "Requirement already satisfied: pip in c:\\users\\administrator\\desktop\\git\\imageclassification\\imageclassification\\lib\\site-packages (25.2)\n",
      "Requirement already satisfied: labelme in c:\\users\\administrator\\desktop\\git\\imageclassification\\imageclassification\\lib\\site-packages (5.8.3)\n",
      "Requirement already satisfied: tensorflow in c:\\users\\administrator\\desktop\\git\\imageclassification\\imageclassification\\lib\\site-packages (2.20.0)\n",
      "Requirement already satisfied: opencv-python in c:\\users\\administrator\\desktop\\git\\imageclassification\\imageclassification\\lib\\site-packages (4.12.0.88)\n",
      "Requirement already satisfied: matplotlib in c:\\users\\administrator\\desktop\\git\\imageclassification\\imageclassification\\lib\\site-packages (3.10.6)\n",
      "Requirement already satisfied: albumentations in c:\\users\\administrator\\desktop\\git\\imageclassification\\imageclassification\\lib\\site-packages (2.0.8)\n",
      "Requirement already satisfied: imgviz in c:\\users\\administrator\\desktop\\git\\imageclassification\\imageclassification\\lib\\site-packages (from labelme) (1.7.6)\n",
      "Requirement already satisfied: loguru in c:\\users\\administrator\\desktop\\git\\imageclassification\\imageclassification\\lib\\site-packages (from labelme) (0.7.3)\n",
      "Requirement already satisfied: natsort>=7.1.0 in c:\\users\\administrator\\desktop\\git\\imageclassification\\imageclassification\\lib\\site-packages (from labelme) (8.4.0)\n",
      "Requirement already satisfied: numpy in c:\\users\\administrator\\desktop\\git\\imageclassification\\imageclassification\\lib\\site-packages (from labelme) (2.2.6)\n",
      "Requirement already satisfied: osam>=0.2.4 in c:\\users\\administrator\\desktop\\git\\imageclassification\\imageclassification\\lib\\site-packages (from labelme) (0.2.5)\n",
      "Requirement already satisfied: pillow>=2.8 in c:\\users\\administrator\\desktop\\git\\imageclassification\\imageclassification\\lib\\site-packages (from labelme) (11.3.0)\n",
      "Requirement already satisfied: pyqt5-qt5!=5.15.11,!=5.15.12,!=5.15.13,!=5.15.14,!=5.15.15,!=5.15.16 in c:\\users\\administrator\\desktop\\git\\imageclassification\\imageclassification\\lib\\site-packages (from labelme) (5.15.2)\n",
      "Requirement already satisfied: pyqt5>=5.14.0 in c:\\users\\administrator\\desktop\\git\\imageclassification\\imageclassification\\lib\\site-packages (from labelme) (5.15.11)\n",
      "Requirement already satisfied: pyyaml in c:\\users\\administrator\\desktop\\git\\imageclassification\\imageclassification\\lib\\site-packages (from labelme) (6.0.2)\n",
      "Requirement already satisfied: scikit-image in c:\\users\\administrator\\desktop\\git\\imageclassification\\imageclassification\\lib\\site-packages (from labelme) (0.25.2)\n",
      "Requirement already satisfied: absl-py>=1.0.0 in c:\\users\\administrator\\desktop\\git\\imageclassification\\imageclassification\\lib\\site-packages (from tensorflow) (2.3.1)\n",
      "Requirement already satisfied: astunparse>=1.6.0 in c:\\users\\administrator\\desktop\\git\\imageclassification\\imageclassification\\lib\\site-packages (from tensorflow) (1.6.3)\n",
      "Requirement already satisfied: flatbuffers>=24.3.25 in c:\\users\\administrator\\desktop\\git\\imageclassification\\imageclassification\\lib\\site-packages (from tensorflow) (25.2.10)\n",
      "Requirement already satisfied: gast!=0.5.0,!=0.5.1,!=0.5.2,>=0.2.1 in c:\\users\\administrator\\desktop\\git\\imageclassification\\imageclassification\\lib\\site-packages (from tensorflow) (0.6.0)\n",
      "Requirement already satisfied: google_pasta>=0.1.1 in c:\\users\\administrator\\desktop\\git\\imageclassification\\imageclassification\\lib\\site-packages (from tensorflow) (0.2.0)\n",
      "Requirement already satisfied: libclang>=13.0.0 in c:\\users\\administrator\\desktop\\git\\imageclassification\\imageclassification\\lib\\site-packages (from tensorflow) (18.1.1)\n",
      "Requirement already satisfied: opt_einsum>=2.3.2 in c:\\users\\administrator\\desktop\\git\\imageclassification\\imageclassification\\lib\\site-packages (from tensorflow) (3.4.0)\n",
      "Requirement already satisfied: packaging in c:\\users\\administrator\\desktop\\git\\imageclassification\\imageclassification\\lib\\site-packages (from tensorflow) (25.0)\n",
      "Requirement already satisfied: protobuf>=5.28.0 in c:\\users\\administrator\\desktop\\git\\imageclassification\\imageclassification\\lib\\site-packages (from tensorflow) (6.32.0)\n",
      "Requirement already satisfied: requests<3,>=2.21.0 in c:\\users\\administrator\\desktop\\git\\imageclassification\\imageclassification\\lib\\site-packages (from tensorflow) (2.32.5)\n",
      "Requirement already satisfied: setuptools in c:\\users\\administrator\\desktop\\git\\imageclassification\\imageclassification\\lib\\site-packages (from tensorflow) (80.9.0)\n",
      "Requirement already satisfied: six>=1.12.0 in c:\\users\\administrator\\desktop\\git\\imageclassification\\imageclassification\\lib\\site-packages (from tensorflow) (1.17.0)\n",
      "Requirement already satisfied: termcolor>=1.1.0 in c:\\users\\administrator\\desktop\\git\\imageclassification\\imageclassification\\lib\\site-packages (from tensorflow) (3.1.0)\n",
      "Requirement already satisfied: typing_extensions>=3.6.6 in c:\\users\\administrator\\desktop\\git\\imageclassification\\imageclassification\\lib\\site-packages (from tensorflow) (4.15.0)\n",
      "Requirement already satisfied: wrapt>=1.11.0 in c:\\users\\administrator\\desktop\\git\\imageclassification\\imageclassification\\lib\\site-packages (from tensorflow) (1.17.3)\n",
      "Requirement already satisfied: grpcio<2.0,>=1.24.3 in c:\\users\\administrator\\desktop\\git\\imageclassification\\imageclassification\\lib\\site-packages (from tensorflow) (1.74.0)\n",
      "Requirement already satisfied: tensorboard~=2.20.0 in c:\\users\\administrator\\desktop\\git\\imageclassification\\imageclassification\\lib\\site-packages (from tensorflow) (2.20.0)\n",
      "Requirement already satisfied: keras>=3.10.0 in c:\\users\\administrator\\desktop\\git\\imageclassification\\imageclassification\\lib\\site-packages (from tensorflow) (3.11.3)\n",
      "Requirement already satisfied: h5py>=3.11.0 in c:\\users\\administrator\\desktop\\git\\imageclassification\\imageclassification\\lib\\site-packages (from tensorflow) (3.14.0)\n",
      "Requirement already satisfied: ml_dtypes<1.0.0,>=0.5.1 in c:\\users\\administrator\\desktop\\git\\imageclassification\\imageclassification\\lib\\site-packages (from tensorflow) (0.5.3)\n",
      "Requirement already satisfied: charset_normalizer<4,>=2 in c:\\users\\administrator\\desktop\\git\\imageclassification\\imageclassification\\lib\\site-packages (from requests<3,>=2.21.0->tensorflow) (3.4.3)\n",
      "Requirement already satisfied: idna<4,>=2.5 in c:\\users\\administrator\\desktop\\git\\imageclassification\\imageclassification\\lib\\site-packages (from requests<3,>=2.21.0->tensorflow) (3.10)\n",
      "Requirement already satisfied: urllib3<3,>=1.21.1 in c:\\users\\administrator\\desktop\\git\\imageclassification\\imageclassification\\lib\\site-packages (from requests<3,>=2.21.0->tensorflow) (2.5.0)\n",
      "Requirement already satisfied: certifi>=2017.4.17 in c:\\users\\administrator\\desktop\\git\\imageclassification\\imageclassification\\lib\\site-packages (from requests<3,>=2.21.0->tensorflow) (2025.8.3)\n",
      "Requirement already satisfied: markdown>=2.6.8 in c:\\users\\administrator\\desktop\\git\\imageclassification\\imageclassification\\lib\\site-packages (from tensorboard~=2.20.0->tensorflow) (3.9)\n",
      "Requirement already satisfied: tensorboard-data-server<0.8.0,>=0.7.0 in c:\\users\\administrator\\desktop\\git\\imageclassification\\imageclassification\\lib\\site-packages (from tensorboard~=2.20.0->tensorflow) (0.7.2)\n",
      "Requirement already satisfied: werkzeug>=1.0.1 in c:\\users\\administrator\\desktop\\git\\imageclassification\\imageclassification\\lib\\site-packages (from tensorboard~=2.20.0->tensorflow) (3.1.3)\n",
      "Requirement already satisfied: contourpy>=1.0.1 in c:\\users\\administrator\\desktop\\git\\imageclassification\\imageclassification\\lib\\site-packages (from matplotlib) (1.3.3)\n",
      "Requirement already satisfied: cycler>=0.10 in c:\\users\\administrator\\desktop\\git\\imageclassification\\imageclassification\\lib\\site-packages (from matplotlib) (0.12.1)\n",
      "Requirement already satisfied: fonttools>=4.22.0 in c:\\users\\administrator\\desktop\\git\\imageclassification\\imageclassification\\lib\\site-packages (from matplotlib) (4.59.2)\n",
      "Requirement already satisfied: kiwisolver>=1.3.1 in c:\\users\\administrator\\desktop\\git\\imageclassification\\imageclassification\\lib\\site-packages (from matplotlib) (1.4.9)\n",
      "Requirement already satisfied: pyparsing>=2.3.1 in c:\\users\\administrator\\desktop\\git\\imageclassification\\imageclassification\\lib\\site-packages (from matplotlib) (3.2.3)\n",
      "Requirement already satisfied: python-dateutil>=2.7 in c:\\users\\administrator\\desktop\\git\\imageclassification\\imageclassification\\lib\\site-packages (from matplotlib) (2.9.0.post0)\n",
      "Requirement already satisfied: scipy>=1.10.0 in c:\\users\\administrator\\desktop\\git\\imageclassification\\imageclassification\\lib\\site-packages (from albumentations) (1.16.1)\n",
      "Requirement already satisfied: pydantic>=2.9.2 in c:\\users\\administrator\\desktop\\git\\imageclassification\\imageclassification\\lib\\site-packages (from albumentations) (2.11.7)\n",
      "Requirement already satisfied: albucore==0.0.24 in c:\\users\\administrator\\desktop\\git\\imageclassification\\imageclassification\\lib\\site-packages (from albumentations) (0.0.24)\n",
      "Requirement already satisfied: opencv-python-headless>=4.9.0.80 in c:\\users\\administrator\\desktop\\git\\imageclassification\\imageclassification\\lib\\site-packages (from albumentations) (4.12.0.88)\n",
      "Requirement already satisfied: stringzilla>=3.10.4 in c:\\users\\administrator\\desktop\\git\\imageclassification\\imageclassification\\lib\\site-packages (from albucore==0.0.24->albumentations) (4.0.0)\n",
      "Requirement already satisfied: simsimd>=5.9.2 in c:\\users\\administrator\\desktop\\git\\imageclassification\\imageclassification\\lib\\site-packages (from albucore==0.0.24->albumentations) (6.5.3)\n",
      "Requirement already satisfied: wheel<1.0,>=0.23.0 in c:\\users\\administrator\\desktop\\git\\imageclassification\\imageclassification\\lib\\site-packages (from astunparse>=1.6.0->tensorflow) (0.45.1)\n",
      "Requirement already satisfied: rich in c:\\users\\administrator\\desktop\\git\\imageclassification\\imageclassification\\lib\\site-packages (from keras>=3.10.0->tensorflow) (14.1.0)\n",
      "Requirement already satisfied: namex in c:\\users\\administrator\\desktop\\git\\imageclassification\\imageclassification\\lib\\site-packages (from keras>=3.10.0->tensorflow) (0.1.0)\n",
      "Requirement already satisfied: optree in c:\\users\\administrator\\desktop\\git\\imageclassification\\imageclassification\\lib\\site-packages (from keras>=3.10.0->tensorflow) (0.17.0)\n",
      "Requirement already satisfied: click in c:\\users\\administrator\\desktop\\git\\imageclassification\\imageclassification\\lib\\site-packages (from osam>=0.2.4->labelme) (8.2.1)\n",
      "Requirement already satisfied: gdown in c:\\users\\administrator\\desktop\\git\\imageclassification\\imageclassification\\lib\\site-packages (from osam>=0.2.4->labelme) (5.2.0)\n",
      "Requirement already satisfied: onnxruntime!=1.16.0,!=1.20.0,!=1.20.1,>=1.14.1 in c:\\users\\administrator\\desktop\\git\\imageclassification\\imageclassification\\lib\\site-packages (from osam>=0.2.4->labelme) (1.22.1)\n",
      "Requirement already satisfied: coloredlogs in c:\\users\\administrator\\desktop\\git\\imageclassification\\imageclassification\\lib\\site-packages (from onnxruntime!=1.16.0,!=1.20.0,!=1.20.1,>=1.14.1->osam>=0.2.4->labelme) (15.0.1)\n",
      "Requirement already satisfied: sympy in c:\\users\\administrator\\desktop\\git\\imageclassification\\imageclassification\\lib\\site-packages (from onnxruntime!=1.16.0,!=1.20.0,!=1.20.1,>=1.14.1->osam>=0.2.4->labelme) (1.14.0)\n",
      "Requirement already satisfied: annotated-types>=0.6.0 in c:\\users\\administrator\\desktop\\git\\imageclassification\\imageclassification\\lib\\site-packages (from pydantic>=2.9.2->albumentations) (0.7.0)\n",
      "Requirement already satisfied: pydantic-core==2.33.2 in c:\\users\\administrator\\desktop\\git\\imageclassification\\imageclassification\\lib\\site-packages (from pydantic>=2.9.2->albumentations) (2.33.2)\n",
      "Requirement already satisfied: typing-inspection>=0.4.0 in c:\\users\\administrator\\desktop\\git\\imageclassification\\imageclassification\\lib\\site-packages (from pydantic>=2.9.2->albumentations) (0.4.1)\n",
      "Requirement already satisfied: PyQt5-sip<13,>=12.15 in c:\\users\\administrator\\desktop\\git\\imageclassification\\imageclassification\\lib\\site-packages (from pyqt5>=5.14.0->labelme) (12.17.0)\n",
      "Requirement already satisfied: MarkupSafe>=2.1.1 in c:\\users\\administrator\\desktop\\git\\imageclassification\\imageclassification\\lib\\site-packages (from werkzeug>=1.0.1->tensorboard~=2.20.0->tensorflow) (3.0.2)\n",
      "Requirement already satisfied: colorama in c:\\users\\administrator\\desktop\\git\\imageclassification\\imageclassification\\lib\\site-packages (from click->osam>=0.2.4->labelme) (0.4.6)\n",
      "Requirement already satisfied: humanfriendly>=9.1 in c:\\users\\administrator\\desktop\\git\\imageclassification\\imageclassification\\lib\\site-packages (from coloredlogs->onnxruntime!=1.16.0,!=1.20.0,!=1.20.1,>=1.14.1->osam>=0.2.4->labelme) (10.0)\n",
      "Requirement already satisfied: pyreadline3 in c:\\users\\administrator\\desktop\\git\\imageclassification\\imageclassification\\lib\\site-packages (from humanfriendly>=9.1->coloredlogs->onnxruntime!=1.16.0,!=1.20.0,!=1.20.1,>=1.14.1->osam>=0.2.4->labelme) (3.5.4)\n",
      "Requirement already satisfied: beautifulsoup4 in c:\\users\\administrator\\desktop\\git\\imageclassification\\imageclassification\\lib\\site-packages (from gdown->osam>=0.2.4->labelme) (4.13.5)\n",
      "Requirement already satisfied: filelock in c:\\users\\administrator\\desktop\\git\\imageclassification\\imageclassification\\lib\\site-packages (from gdown->osam>=0.2.4->labelme) (3.19.1)\n",
      "Requirement already satisfied: tqdm in c:\\users\\administrator\\desktop\\git\\imageclassification\\imageclassification\\lib\\site-packages (from gdown->osam>=0.2.4->labelme) (4.67.1)\n",
      "Requirement already satisfied: soupsieve>1.2 in c:\\users\\administrator\\desktop\\git\\imageclassification\\imageclassification\\lib\\site-packages (from beautifulsoup4->gdown->osam>=0.2.4->labelme) (2.8)\n",
      "Requirement already satisfied: win32-setctime>=1.0.0 in c:\\users\\administrator\\desktop\\git\\imageclassification\\imageclassification\\lib\\site-packages (from loguru->labelme) (1.2.0)\n",
      "Requirement already satisfied: PySocks!=1.5.7,>=1.5.6 in c:\\users\\administrator\\desktop\\git\\imageclassification\\imageclassification\\lib\\site-packages (from requests[socks]->gdown->osam>=0.2.4->labelme) (1.7.1)\n",
      "Requirement already satisfied: markdown-it-py>=2.2.0 in c:\\users\\administrator\\desktop\\git\\imageclassification\\imageclassification\\lib\\site-packages (from rich->keras>=3.10.0->tensorflow) (4.0.0)\n",
      "Requirement already satisfied: pygments<3.0.0,>=2.13.0 in c:\\users\\administrator\\desktop\\git\\imageclassification\\imageclassification\\lib\\site-packages (from rich->keras>=3.10.0->tensorflow) (2.19.2)\n",
      "Requirement already satisfied: mdurl~=0.1 in c:\\users\\administrator\\desktop\\git\\imageclassification\\imageclassification\\lib\\site-packages (from markdown-it-py>=2.2.0->rich->keras>=3.10.0->tensorflow) (0.1.2)\n",
      "Requirement already satisfied: networkx>=3.0 in c:\\users\\administrator\\desktop\\git\\imageclassification\\imageclassification\\lib\\site-packages (from scikit-image->labelme) (3.5)\n",
      "Requirement already satisfied: imageio!=2.35.0,>=2.33 in c:\\users\\administrator\\desktop\\git\\imageclassification\\imageclassification\\lib\\site-packages (from scikit-image->labelme) (2.37.0)\n",
      "Requirement already satisfied: tifffile>=2022.8.12 in c:\\users\\administrator\\desktop\\git\\imageclassification\\imageclassification\\lib\\site-packages (from scikit-image->labelme) (2025.8.28)\n",
      "Requirement already satisfied: lazy-loader>=0.4 in c:\\users\\administrator\\desktop\\git\\imageclassification\\imageclassification\\lib\\site-packages (from scikit-image->labelme) (0.4)\n",
      "Requirement already satisfied: mpmath<1.4,>=1.1.0 in c:\\users\\administrator\\desktop\\git\\imageclassification\\imageclassification\\lib\\site-packages (from sympy->onnxruntime!=1.16.0,!=1.20.0,!=1.20.1,>=1.14.1->osam>=0.2.4->labelme) (1.3.0)\n"
     ]
    }
   ],
   "source": [
    "!pip install -U pip \n",
    "!pip install labelme tensorflow opencv-python matplotlib albumentations"
   ]
  },
  {
   "cell_type": "markdown",
   "id": "3adb385e-b1fd-4c98-954c-7c4e603fd517",
   "metadata": {
    "jupyter": {
     "source_hidden": true
    }
   },
   "source": [
    "Above installations:\n",
    "- labelme: GUI to draw image annotations\n",
    "- tensorflow: deep learning library to train neural net\n",
    "- opencv: image/video/I/O and CV ops (resize, blur, edges, etc)\n",
    "- matplotlib: plotting library for charts and visualizations\n",
    "- albumentations: fast image augmentations for training"
   ]
  },
  {
   "cell_type": "markdown",
   "id": "6b20131b-7935-4f24-8474-9514f1fb3497",
   "metadata": {},
   "source": [
    "### 1.2 Collect Images With OpenCV"
   ]
  },
  {
   "cell_type": "code",
   "execution_count": 4,
   "id": "1794eefa-debf-4e6c-9154-1a6f7a7b3959",
   "metadata": {},
   "outputs": [],
   "source": [
    "import os \n",
    "import time\n",
    "import uuid\n",
    "import cv2"
   ]
  },
  {
   "cell_type": "markdown",
   "id": "f4df9dfe-a362-4b3b-b8a9-1694bdb103c7",
   "metadata": {},
   "source": [
    "Libraries above:\n",
    "- os: file system & OS stuff like paths, env vars, etc..\n",
    "- time: timestamps, delays, timing\n",
    "- uuid: generate unique ID's for file names\n",
    "- cv2: read/write images, resize/rotate, draw, video capture\n"
   ]
  },
  {
   "cell_type": "code",
   "execution_count": 5,
   "id": "bd065737-a9c8-4e29-810e-19bfc606de4b",
   "metadata": {},
   "outputs": [],
   "source": [
    "IMAGE_PATH = os.path.join('data','image')\n",
    "number_images = 30"
   ]
  },
  {
   "cell_type": "code",
   "execution_count": null,
   "id": "c44f9cd7-fad4-4b17-963c-237514348af8",
   "metadata": {},
   "outputs": [],
   "source": []
  }
 ],
 "metadata": {
  "kernelspec": {
   "display_name": "Python (imageclassification)",
   "language": "python",
   "name": "imageclassification"
  },
  "language_info": {
   "codemirror_mode": {
    "name": "ipython",
    "version": 3
   },
   "file_extension": ".py",
   "mimetype": "text/x-python",
   "name": "python",
   "nbconvert_exporter": "python",
   "pygments_lexer": "ipython3",
   "version": "3.13.5"
  }
 },
 "nbformat": 4,
 "nbformat_minor": 5
}
